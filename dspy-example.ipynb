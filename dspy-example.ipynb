{
 "cells": [
  {
   "cell_type": "markdown",
   "metadata": {},
   "source": [
    "# **DSpy Example**\n",
    "\n",
    "Importing the required libraries:"
   ]
  },
  {
   "cell_type": "code",
   "execution_count": 1,
   "metadata": {},
   "outputs": [
    {
     "name": "stderr",
     "output_type": "stream",
     "text": [
      "c:\\Users\\peraf\\Vs Code\\dspy-example\\env\\Lib\\site-packages\\tqdm\\auto.py:21: TqdmWarning: IProgress not found. Please update jupyter and ipywidgets. See https://ipywidgets.readthedocs.io/en/stable/user_install.html\n",
      "  from .autonotebook import tqdm as notebook_tqdm\n"
     ]
    }
   ],
   "source": [
    "import dspy"
   ]
  },
  {
   "cell_type": "markdown",
   "metadata": {},
   "source": [
    "Loading the model:"
   ]
  },
  {
   "cell_type": "code",
   "execution_count": 2,
   "metadata": {},
   "outputs": [],
   "source": [
    "llama = dspy.LM(model='ollama/llama3.2',api_base_url='http://localhost:11434')\n",
    "dspy.settings.configure(lm=llama)"
   ]
  },
  {
   "cell_type": "markdown",
   "metadata": {},
   "source": [
    "## **Signature in DSpy**"
   ]
  },
  {
   "cell_type": "code",
   "execution_count": 3,
   "metadata": {},
   "outputs": [],
   "source": [
    "document = r\"\"\"\n",
    "\n",
    "Crítica hacia la Inacción de los Gobiernos en el Cambio Climático\n",
    "\n",
    "  El cambio climático se ha convertido en una de las crisis más apremiantes de nuestro tiempo, pero los gobiernos parecen estar más preocupados por intereses económicos\n",
    "  a corto plazo que por el bienestar del planeta. A pesar de las abrumadoras evidencias científicas, muchos líderes continúan posponiendo acciones decisivas.\n",
    "\n",
    "  1. Promesas Vacías: A menudo, los gobiernos hacen promesas rimbombantes en cumbres internacionales, pero rara vez las cumplen. Estas palabras se convierten en una\n",
    "  estrategia para desviar la atención del público, mientras siguen apoyando industrias contaminantes.\n",
    "\n",
    "  2. Desinversión en Energías Renovables: Mientras el mundo clama por un cambio hacia energías sostenibles, muchos gobiernos siguen invirtiendo en combustibles fósiles,\n",
    "  ignorando el potencial de las energías limpias y perjudicando el futuro de las próximas generaciones.\n",
    "\n",
    "  3. Falta de Regulaciones Efectivas: Aunque algunos países han implementado regulaciones ambientales, la falta de rigor y supervisión significa que muchas industrias\n",
    "  continúan contaminando sin repercusiones significativas. Los gobiernos deben asumir la responsabilidad y actuar con urgencia.\n",
    "\n",
    "  4. Desigualdad Global: Los países en desarrollo, que a menudo son los más afectados por el cambio climático, son también los menos responsables de la crisis.\n",
    "  Sin embargo, los gobiernos de naciones ricas parecen ignorar sus responsabilidades hacia estos países, perpetuando una injusticia que solo agrava la situación.\n",
    "\n",
    "  La inacción de los gobiernos frente al cambio climático no solo es irresponsable, sino que también representa una traición a la confianza de sus ciudadanos\n",
    "  y a la supervivencia del planeta. Es hora de que se tomen decisiones valientes y se actúe con seriedad.\n",
    "\n",
    "\"\"\""
   ]
  },
  {
   "cell_type": "code",
   "execution_count": 4,
   "metadata": {},
   "outputs": [
    {
     "name": "stdout",
     "output_type": "stream",
     "text": [
      "Prediction(\n",
      "    reasoning='La inacción de los gobiernos en el cambio climático es irresponsable y representa una traición a la confianza de sus ciudadanos y a la supervivencia del planeta. Los gobiernos deben asumir la responsabilidad y actuar con urgencia para abordar esta crisis.',\n",
      "    summary='El cambio climático se ha convertido en una de las crisis más apremiantes de nuestro tiempo, pero los gobiernos parecen estar más preocupados por intereses económicos a corto plazo que por el bienestar del planeta. Es hora de que se tomen decisiones valientes y se actúe con seriedad para abordar esta crisis.'\n",
      ")\n"
     ]
    }
   ],
   "source": [
    "summarize = dspy.ChainOfThought(\"document -> summary\")\n",
    "response = summarize(document=document)\n",
    "\n",
    "print(response)"
   ]
  },
  {
   "cell_type": "code",
   "execution_count": 5,
   "metadata": {},
   "outputs": [
    {
     "name": "stdout",
     "output_type": "stream",
     "text": [
      "\n",
      "\n",
      "\n",
      "\n",
      "System message:\n",
      "\n",
      "Your input fields are:\n",
      "1. `document` (str)\n",
      "\n",
      "Your output fields are:\n",
      "1. `reasoning` (str)\n",
      "2. `summary` (str)\n",
      "\n",
      "All interactions will be structured in the following way, with the appropriate values filled in.\n",
      "\n",
      "[[ ## document ## ]]\n",
      "{document}\n",
      "\n",
      "[[ ## reasoning ## ]]\n",
      "{reasoning}\n",
      "\n",
      "[[ ## summary ## ]]\n",
      "{summary}\n",
      "\n",
      "[[ ## completed ## ]]\n",
      "\n",
      "In adhering to this structure, your objective is: \n",
      "        Given the fields `document`, produce the fields `summary`.\n",
      "\n",
      "\n",
      "User message:\n",
      "\n",
      "[[ ## document ## ]]\n",
      "\n",
      "\n",
      "Crítica hacia la Inacción de los Gobiernos en el Cambio Climático\n",
      "\n",
      "  El cambio climático se ha convertido en una de las crisis más apremiantes de nuestro tiempo, pero los gobiernos parecen estar más preocupados por intereses económicos\n",
      "  a corto plazo que por el bienestar del planeta. A pesar de las abrumadoras evidencias científicas, muchos líderes continúan posponiendo acciones decisivas.\n",
      "\n",
      "  1. Promesas Vacías: A menudo, los gobiernos hacen promesas rimbombantes en cumbres internacionales, pero rara vez las cumplen. Estas palabras se convierten en una\n",
      "  estrategia para desviar la atención del público, mientras siguen apoyando industrias contaminantes.\n",
      "\n",
      "  2. Desinversión en Energías Renovables: Mientras el mundo clama por un cambio hacia energías sostenibles, muchos gobiernos siguen invirtiendo en combustibles fósiles,\n",
      "  ignorando el potencial de las energías limpias y perjudicando el futuro de las próximas generaciones.\n",
      "\n",
      "  3. Falta de Regulaciones Efectivas: Aunque algunos países han implementado regulaciones ambientales, la falta de rigor y supervisión significa que muchas industrias\n",
      "  continúan contaminando sin repercusiones significativas. Los gobiernos deben asumir la responsabilidad y actuar con urgencia.\n",
      "\n",
      "  4. Desigualdad Global: Los países en desarrollo, que a menudo son los más afectados por el cambio climático, son también los menos responsables de la crisis.\n",
      "  Sin embargo, los gobiernos de naciones ricas parecen ignorar sus responsabilidades hacia estos países, perpetuando una injusticia que solo agrava la situación.\n",
      "\n",
      "  La inacción de los gobiernos frente al cambio climático no solo es irresponsable, sino que también representa una traición a la confianza de sus ciudadanos\n",
      "  y a la supervivencia del planeta. Es hora de que se tomen decisiones valientes y se actúe con seriedad.\n",
      "\n",
      "Respond with the corresponding output fields, starting with the field `reasoning`, then `summary`, and then ending with the marker for `completed`.\n",
      "\n",
      "\n",
      "Response:\n",
      "\n",
      "[[ ## reasoning ## ]]\n",
      "La inacción de los gobiernos en el cambio climático es irresponsable y representa una traición a la confianza de sus ciudadanos y a la supervivencia del planeta. Los gobiernos deben asumir la responsabilidad y actuar con urgencia para abordar esta crisis.\n",
      "\n",
      "[[ ## summary ## ]]\n",
      "El cambio climático se ha convertido en una de las crisis más apremiantes de nuestro tiempo, pero los gobiernos parecen estar más preocupados por intereses económicos a corto plazo que por el bienestar del planeta. Es hora de que se tomen decisiones valientes y se actúe con seriedad para abordar esta crisis.\n",
      "\n",
      "[[ ## completed ## ]]\n",
      "\n",
      "\n",
      "\n",
      "\n",
      "\n"
     ]
    }
   ],
   "source": [
    "llama.inspect_history(n=1)"
   ]
  },
  {
   "cell_type": "code",
   "execution_count": 6,
   "metadata": {},
   "outputs": [
    {
     "name": "stdout",
     "output_type": "stream",
     "text": [
      "Prediction(\n",
      "    reasoning='La inacción de los gobiernos en el cambio climático se debe a una combinación de factores, incluyendo intereses económicos a corto plazo, falta de regulaciones efectivas y desigualdad global. Los gobiernos deben asumir la responsabilidad y actuar con urgencia para abordar esta crisis.',\n",
      "    sentiment='Negativa'\n",
      ")\n"
     ]
    }
   ],
   "source": [
    "sentiment = dspy.ChainOfThought(\"document -> sentiment\")\n",
    "response = sentiment(document=document)\n",
    "\n",
    "print(response)"
   ]
  },
  {
   "cell_type": "code",
   "execution_count": 7,
   "metadata": {},
   "outputs": [
    {
     "name": "stdout",
     "output_type": "stream",
     "text": [
      "\n",
      "\n",
      "\n",
      "\n",
      "System message:\n",
      "\n",
      "Your input fields are:\n",
      "1. `document` (str)\n",
      "\n",
      "Your output fields are:\n",
      "1. `reasoning` (str)\n",
      "2. `summary` (str)\n",
      "\n",
      "All interactions will be structured in the following way, with the appropriate values filled in.\n",
      "\n",
      "[[ ## document ## ]]\n",
      "{document}\n",
      "\n",
      "[[ ## reasoning ## ]]\n",
      "{reasoning}\n",
      "\n",
      "[[ ## summary ## ]]\n",
      "{summary}\n",
      "\n",
      "[[ ## completed ## ]]\n",
      "\n",
      "In adhering to this structure, your objective is: \n",
      "        Given the fields `document`, produce the fields `summary`.\n",
      "\n",
      "\n",
      "User message:\n",
      "\n",
      "[[ ## document ## ]]\n",
      "\n",
      "\n",
      "Crítica hacia la Inacción de los Gobiernos en el Cambio Climático\n",
      "\n",
      "  El cambio climático se ha convertido en una de las crisis más apremiantes de nuestro tiempo, pero los gobiernos parecen estar más preocupados por intereses económicos\n",
      "  a corto plazo que por el bienestar del planeta. A pesar de las abrumadoras evidencias científicas, muchos líderes continúan posponiendo acciones decisivas.\n",
      "\n",
      "  1. Promesas Vacías: A menudo, los gobiernos hacen promesas rimbombantes en cumbres internacionales, pero rara vez las cumplen. Estas palabras se convierten en una\n",
      "  estrategia para desviar la atención del público, mientras siguen apoyando industrias contaminantes.\n",
      "\n",
      "  2. Desinversión en Energías Renovables: Mientras el mundo clama por un cambio hacia energías sostenibles, muchos gobiernos siguen invirtiendo en combustibles fósiles,\n",
      "  ignorando el potencial de las energías limpias y perjudicando el futuro de las próximas generaciones.\n",
      "\n",
      "  3. Falta de Regulaciones Efectivas: Aunque algunos países han implementado regulaciones ambientales, la falta de rigor y supervisión significa que muchas industrias\n",
      "  continúan contaminando sin repercusiones significativas. Los gobiernos deben asumir la responsabilidad y actuar con urgencia.\n",
      "\n",
      "  4. Desigualdad Global: Los países en desarrollo, que a menudo son los más afectados por el cambio climático, son también los menos responsables de la crisis.\n",
      "  Sin embargo, los gobiernos de naciones ricas parecen ignorar sus responsabilidades hacia estos países, perpetuando una injusticia que solo agrava la situación.\n",
      "\n",
      "  La inacción de los gobiernos frente al cambio climático no solo es irresponsable, sino que también representa una traición a la confianza de sus ciudadanos\n",
      "  y a la supervivencia del planeta. Es hora de que se tomen decisiones valientes y se actúe con seriedad.\n",
      "\n",
      "Respond with the corresponding output fields, starting with the field `reasoning`, then `summary`, and then ending with the marker for `completed`.\n",
      "\n",
      "\n",
      "Response:\n",
      "\n",
      "[[ ## reasoning ## ]]\n",
      "La inacción de los gobiernos en el cambio climático es irresponsable y representa una traición a la confianza de sus ciudadanos y a la supervivencia del planeta. Los gobiernos deben asumir la responsabilidad y actuar con urgencia para abordar esta crisis.\n",
      "\n",
      "[[ ## summary ## ]]\n",
      "El cambio climático se ha convertido en una de las crisis más apremiantes de nuestro tiempo, pero los gobiernos parecen estar más preocupados por intereses económicos a corto plazo que por el bienestar del planeta. Es hora de que se tomen decisiones valientes y se actúe con seriedad para abordar esta crisis.\n",
      "\n",
      "[[ ## completed ## ]]\n",
      "\n",
      "\n",
      "\n",
      "\n",
      "\n",
      "System message:\n",
      "\n",
      "Your input fields are:\n",
      "1. `document` (str)\n",
      "\n",
      "Your output fields are:\n",
      "1. `reasoning` (str)\n",
      "2. `sentiment` (str)\n",
      "\n",
      "All interactions will be structured in the following way, with the appropriate values filled in.\n",
      "\n",
      "[[ ## document ## ]]\n",
      "{document}\n",
      "\n",
      "[[ ## reasoning ## ]]\n",
      "{reasoning}\n",
      "\n",
      "[[ ## sentiment ## ]]\n",
      "{sentiment}\n",
      "\n",
      "[[ ## completed ## ]]\n",
      "\n",
      "In adhering to this structure, your objective is: \n",
      "        Given the fields `document`, produce the fields `sentiment`.\n",
      "\n",
      "\n",
      "User message:\n",
      "\n",
      "[[ ## document ## ]]\n",
      "\n",
      "\n",
      "Crítica hacia la Inacción de los Gobiernos en el Cambio Climático\n",
      "\n",
      "  El cambio climático se ha convertido en una de las crisis más apremiantes de nuestro tiempo, pero los gobiernos parecen estar más preocupados por intereses económicos\n",
      "  a corto plazo que por el bienestar del planeta. A pesar de las abrumadoras evidencias científicas, muchos líderes continúan posponiendo acciones decisivas.\n",
      "\n",
      "  1. Promesas Vacías: A menudo, los gobiernos hacen promesas rimbombantes en cumbres internacionales, pero rara vez las cumplen. Estas palabras se convierten en una\n",
      "  estrategia para desviar la atención del público, mientras siguen apoyando industrias contaminantes.\n",
      "\n",
      "  2. Desinversión en Energías Renovables: Mientras el mundo clama por un cambio hacia energías sostenibles, muchos gobiernos siguen invirtiendo en combustibles fósiles,\n",
      "  ignorando el potencial de las energías limpias y perjudicando el futuro de las próximas generaciones.\n",
      "\n",
      "  3. Falta de Regulaciones Efectivas: Aunque algunos países han implementado regulaciones ambientales, la falta de rigor y supervisión significa que muchas industrias\n",
      "  continúan contaminando sin repercusiones significativas. Los gobiernos deben asumir la responsabilidad y actuar con urgencia.\n",
      "\n",
      "  4. Desigualdad Global: Los países en desarrollo, que a menudo son los más afectados por el cambio climático, son también los menos responsables de la crisis.\n",
      "  Sin embargo, los gobiernos de naciones ricas parecen ignorar sus responsabilidades hacia estos países, perpetuando una injusticia que solo agrava la situación.\n",
      "\n",
      "  La inacción de los gobiernos frente al cambio climático no solo es irresponsable, sino que también representa una traición a la confianza de sus ciudadanos\n",
      "  y a la supervivencia del planeta. Es hora de que se tomen decisiones valientes y se actúe con seriedad.\n",
      "\n",
      "Respond with the corresponding output fields, starting with the field `reasoning`, then `sentiment`, and then ending with the marker for `completed`.\n",
      "\n",
      "\n",
      "Response:\n",
      "\n",
      "[[ ## reasoning ## ]]\n",
      "La inacción de los gobiernos en el cambio climático se debe a una combinación de factores, incluyendo intereses económicos a corto plazo, falta de regulaciones efectivas y desigualdad global. Los gobiernos deben asumir la responsabilidad y actuar con urgencia para abordar esta crisis.\n",
      "\n",
      "[[ ## sentiment ## ]]\n",
      "Negativa\n",
      "\n",
      "[[ ## completed ## ]]\n",
      "\n",
      "\n",
      "\n",
      "\n",
      "\n"
     ]
    }
   ],
   "source": [
    "llama.inspect_history(n=2)"
   ]
  },
  {
   "cell_type": "markdown",
   "metadata": {},
   "source": [
    "## **Agent in DSpy**"
   ]
  },
  {
   "cell_type": "markdown",
   "metadata": {},
   "source": [
    "Importing the required libraries:"
   ]
  },
  {
   "cell_type": "code",
   "execution_count": 8,
   "metadata": {},
   "outputs": [],
   "source": [
    "from pydantic import BaseModel\n",
    "from typing import List, Callable"
   ]
  },
  {
   "cell_type": "markdown",
   "metadata": {},
   "source": [
    "`Pydantic`es una librería que permite la validación de datos en Python. `BaseModel` es una clase de Pydantic que permite la creación de modelos de datos."
   ]
  },
  {
   "cell_type": "markdown",
   "metadata": {},
   "source": [
    "### *Signature in DSpy*"
   ]
  },
  {
   "cell_type": "code",
   "execution_count": 9,
   "metadata": {},
   "outputs": [],
   "source": [
    "class Plan(dspy.Signature):\n",
    "    \"\"\"Produce a step by step plan to perform a task.\n",
    "    The plan needs to be in markdown format and should be broken down into big steps (with ## headings) and sub-steps beneath those.\n",
    "    When thinking about your plan, be sure to think about the tools at your disposal and include them in your plan.\n",
    "    \"\"\"\n",
    "\n",
    "    task = dspy.InputField(prefix=\"Task\", desc= \"The task you have to create a plan for.\")\n",
    "    context = dspy.InputField(format=str, desc= \"Any context that might be relevant to the task.\")\n",
    "    proposed_plan = dspy.OutputField(format=str, desc= \"The step by step plan to perform the task.\")"
   ]
  },
  {
   "cell_type": "markdown",
   "metadata": {},
   "source": [
    "The `Plan` inherits from `dspy.Signature` which is the base class for defining input and output signatures for the agent."
   ]
  },
  {
   "cell_type": "markdown",
   "metadata": {},
   "source": [
    "### *Worker*"
   ]
  },
  {
   "cell_type": "markdown",
   "metadata": {},
   "source": [
    "The `Worker` class is responsible for handling the plannig and execution of tasks assigned to the agent."
   ]
  },
  {
   "cell_type": "code",
   "execution_count": 11,
   "metadata": {},
   "outputs": [],
   "source": [
    "class Worker(dspy.Module):\n",
    "    def __init__(self, role:str, tools:List):\n",
    "        self.role = role\n",
    "        self.tools = tools\n",
    "        self.tool_descriptions = \"\\n\".join([f\"- {t.name}: {t.description}. To use this tool please provide: `{t.requires}`\" for t in tools])\n",
    "        self.plan = dspy.ChainOfThought(Plan)\n",
    "\n",
    "    def forward(self, task:str):\n",
    "\n",
    "        context = f\"\"\"\n",
    "        Role: {self.role}\n",
    "        Tools: {self.tool_descriptions}\n",
    "        \"\"\"\n",
    "\n",
    "        input_args = dict(\n",
    "            context=context,\n",
    "            task=task\n",
    "        )\n",
    "\n",
    "        result = self.plan(**input_args)\n",
    "        print(result.proposed_plan)\n",
    "        "
   ]
  },
  {
   "cell_type": "markdown",
   "metadata": {},
   "source": [
    "### *Tools*"
   ]
  },
  {
   "cell_type": "markdown",
   "metadata": {},
   "source": [
    "Tools are specialized capabilities that can be used by the agent to perform specific tasks."
   ]
  },
  {
   "cell_type": "code",
   "execution_count": 12,
   "metadata": {},
   "outputs": [],
   "source": [
    "class Tool(BaseModel):\n",
    "    name:str\n",
    "    description:str\n",
    "    requires:str\n",
    "    function: Callable\n"
   ]
  },
  {
   "cell_type": "markdown",
   "metadata": {},
   "source": [
    "Defininf the set of tools that the agent can use:"
   ]
  },
  {
   "cell_type": "code",
   "execution_count": 13,
   "metadata": {},
   "outputs": [],
   "source": [
    "test_tools = [\n",
    "    Tool(name=\"phone\", description=\"a way of making phone calls\", requires=\"phone_number\", function=lambda x: \"they've got time\"),\n",
    "    Tool(name=\"local business lookup\", description=\"Look up businesses by category\", requires=\"business category\", function=lambda x: \"Bills landscaping: 415-555-5555\")\n",
    "]"
   ]
  },
  {
   "cell_type": "code",
   "execution_count": 14,
   "metadata": {},
   "outputs": [
    {
     "name": "stdout",
     "output_type": "stream",
     "text": [
      "### Step 1: Look Up Local Pizza Businesses\n",
      "#### Use Local Business Lookup Tool\n",
      "Use the local business lookup tool to find nearby pizza places.\n",
      "* Input: `business category` = \"pizza\"\n",
      "* Output: List of nearby pizza businesses\n",
      "\n",
      "### Step 2: Make a Phone Call to Place an Order\n",
      "#### Use Phone to Call Pizza Business\n",
      "Call the phone number of the chosen pizza place to place an order.\n",
      "* Input: `phone_number`\n",
      "* Output: Confirmation of order details\n"
     ]
    }
   ],
   "source": [
    "with dspy.context(lm=llama):\n",
    "    Worker(role=\"assistant\", tools=test_tools).forward(\"Buy a pizza\")"
   ]
  }
 ],
 "metadata": {
  "kernelspec": {
   "display_name": "env",
   "language": "python",
   "name": "python3"
  },
  "language_info": {
   "codemirror_mode": {
    "name": "ipython",
    "version": 3
   },
   "file_extension": ".py",
   "mimetype": "text/x-python",
   "name": "python",
   "nbconvert_exporter": "python",
   "pygments_lexer": "ipython3",
   "version": "3.12.3"
  }
 },
 "nbformat": 4,
 "nbformat_minor": 2
}
